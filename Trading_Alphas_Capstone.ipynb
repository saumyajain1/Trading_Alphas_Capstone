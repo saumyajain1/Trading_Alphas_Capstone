{
 "cells": [
  {
   "cell_type": "markdown",
   "id": "917d0f95-6f21-4aec-a35d-436b1e563248",
   "metadata": {},
   "source": [
    "Import libraries"
   ]
  },
  {
   "cell_type": "markdown",
   "id": "4a9e4ae4-4c0b-4109-bbf5-dc91005354fa",
   "metadata": {},
   "source": [
    "Import datasets:\n",
    "Mini-S&P500 futures\n",
    "WTI oil futures\n",
    "Gold futures\n",
    "Aluminium futures\n",
    "EUR/USD currency\n",
    "Wheat futures\n",
    "VIX futures\n",
    "Gasoline futures\n",
    "What major differences when applying strategies on futures?"
   ]
  },
  {
   "cell_type": "markdown",
   "id": "42764274-34fa-42fa-8323-b0e6de57123c",
   "metadata": {},
   "source": [
    "Combine datasets, clean, set index to datetime. Split data into training and testing (last 1000 rows for testing)"
   ]
  },
  {
   "cell_type": "markdown",
   "id": "059ec9bb-fc48-43d7-9152-b4069fa62510",
   "metadata": {},
   "source": [
    "Exploratory Data Analsyis (To help decide strategies)"
   ]
  },
  {
   "cell_type": "markdown",
   "id": "959726aa-d554-45c3-9d9b-65017253a569",
   "metadata": {},
   "source": [
    "Setting Benchmark as an equally weighted (across all assets) Buy and Hold strategy. Other Benchmarks? Why did I choose this benchmark?"
   ]
  },
  {
   "cell_type": "markdown",
   "id": "e9bbc147-fc34-481b-9c64-8d1d435ce488",
   "metadata": {},
   "source": [
    "Strategy 1: Time-series Micro Alpha"
   ]
  },
  {
   "cell_type": "markdown",
   "id": "d4e79889-90bf-41cd-9032-c092a7f4dd33",
   "metadata": {},
   "source": [
    "Strategy 2: Cross-Sectional Micro Alpha"
   ]
  },
  {
   "cell_type": "markdown",
   "id": "8521b0f7-e4d9-41b1-9d16-efa03f0a8272",
   "metadata": {},
   "source": [
    "Strategy 3: Timing Micro Alpha"
   ]
  },
  {
   "cell_type": "markdown",
   "id": "8963f4be-06c9-459b-ab72-3ce077f6f707",
   "metadata": {},
   "source": [
    "Strategy 4: ML Micro Alpha"
   ]
  },
  {
   "cell_type": "markdown",
   "id": "59e27b56-461b-4be3-ba64-5ca81c5e2b69",
   "metadata": {},
   "source": [
    "Combining strategies method 1: Equal weighting of strategies"
   ]
  },
  {
   "cell_type": "markdown",
   "id": "ea03d5b7-8415-40ce-be23-47e1aa4d6afc",
   "metadata": {},
   "source": [
    "Combining strategies method 2: Manual weighting of strategies"
   ]
  },
  {
   "cell_type": "markdown",
   "id": "e1dbfcb1-3dc2-4a5b-b3ee-164043c087d7",
   "metadata": {},
   "source": [
    "Combining strategies method 3: Automated (Mean-variance) weighting of strategy"
   ]
  },
  {
   "cell_type": "markdown",
   "id": "4148d931-d182-46c0-ba14-498bae1134ad",
   "metadata": {},
   "source": [
    "Evaluate strategies on training data: CAGR, Sharpe/Sortino Ratio with/without rf rate, Alpha, Beta, Profit factor, Average/Max Drawdown, Profit per trade. Make a dataframe for these metrics, interpret them, make predictions about test data. Compare strategies with the benchmark and against each other."
   ]
  },
  {
   "cell_type": "markdown",
   "id": "1d306c40-afd4-4810-8969-6e299937df3a",
   "metadata": {},
   "source": [
    "After you have done your research, will your researched strategies still deliver acceptable performance from 2 Jan 2020 onwards?"
   ]
  },
  {
   "cell_type": "markdown",
   "id": "32f69d04-f6b9-4ac0-b6f9-86dfebf10b9e",
   "metadata": {},
   "source": [
    "Once your simulation is ready, run a study of transaction costs. For simplicity, apply the same level of transaction costs to each contract. And answer the following questions.\n",
    "\n",
    "What is the highest level of transaction costs your strategy can tolerate?\n",
    "Could this be improved by reducing the turnover?\n",
    "How much leverage would you tolerate?"
   ]
  },
  {
   "cell_type": "markdown",
   "id": "76c8711e-0e57-4635-8e84-59b26d46de5b",
   "metadata": {},
   "source": [
    "Apply strategies on test data"
   ]
  },
  {
   "cell_type": "markdown",
   "id": "69662d3f-793c-482e-a057-00405427c622",
   "metadata": {},
   "source": [
    "Evaluate strategies on testing data: CAGR, Sharpe/Sortino Ratio with/without rf rate, Alpha, Beta, Profit factor, Average/Max Drawdown, Profit per trade. Make a dataframe for these metrics, interpret them, make predictions about test data. Compare strategies with the benchmark and against each other."
   ]
  },
  {
   "cell_type": "markdown",
   "id": "e3bbd683-d4e3-4432-8bdc-727e680ca406",
   "metadata": {},
   "source": [
    "Does the strategy still hold in the new market regime?\n",
    "Is it still viable after transaction costs?"
   ]
  },
  {
   "cell_type": "markdown",
   "id": "6be2b852-47e6-4075-9742-26373fffe892",
   "metadata": {},
   "source": [
    "Reflect on what you have learned. Write down at least 10 insights from your research."
   ]
  }
 ],
 "metadata": {
  "kernelspec": {
   "display_name": "Python 3 (ipykernel)",
   "language": "python",
   "name": "python3"
  },
  "language_info": {
   "codemirror_mode": {
    "name": "ipython",
    "version": 3
   },
   "file_extension": ".py",
   "mimetype": "text/x-python",
   "name": "python",
   "nbconvert_exporter": "python",
   "pygments_lexer": "ipython3",
   "version": "3.11.9"
  }
 },
 "nbformat": 4,
 "nbformat_minor": 5
}
