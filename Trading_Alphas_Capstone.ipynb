{
 "cells": [
  {
   "cell_type": "markdown",
   "id": "917d0f95-6f21-4aec-a35d-436b1e563248",
   "metadata": {},
   "source": [
    "## Importing libraries"
   ]
  },
  {
   "cell_type": "code",
   "execution_count": 1,
   "id": "2b893cc1",
   "metadata": {},
   "outputs": [],
   "source": [
    "import yfinance as yf\n",
    "import pandas as pd\n",
    "from datetime import datetime\n",
    "import matplotlib.pyplot as plt"
   ]
  },
  {
   "cell_type": "markdown",
   "id": "4a9e4ae4-4c0b-4109-bbf5-dc91005354fa",
   "metadata": {},
   "source": [
    "## Importing datasets:  \n",
    "\n",
    "Mini-S&P500 futures\n",
    "\n",
    "WTI oil futures\n",
    "\n",
    "Gold futures\n",
    "\n",
    "<!-- Aluminium futures -->\n",
    "\n",
    "EUR/USD currency\n",
    "\n",
    "Wheat futures\n",
    "\n",
    "<!-- VIX futures -->\n",
    "\n",
    "Gasoline futures"
   ]
  },
  {
   "cell_type": "code",
   "execution_count": 2,
   "id": "fa16b52f",
   "metadata": {},
   "outputs": [
    {
     "name": "stderr",
     "output_type": "stream",
     "text": [
      "[*********************100%%**********************]  6 of 6 completed"
     ]
    },
    {
     "name": "stdout",
     "output_type": "stream",
     "text": [
      "Price       Adj Close                                                  \\\n",
      "Ticker           CL=F     ES=F  EURUSD=X         GC=F    RB=F    ZW=F   \n",
      "Date                                                                    \n",
      "2010-01-01        NaN      NaN  1.438994          NaN     NaN     NaN   \n",
      "2010-01-04  81.510002  1128.75  1.442398  1117.699951  2.1044  557.75   \n",
      "2010-01-05  81.769997  1132.25  1.436596  1118.099976  2.1250  553.00   \n",
      "2010-01-06  83.180000  1133.00  1.440403  1135.900024  2.1366  567.25   \n",
      "2010-01-07  82.660004  1137.50  1.431803  1133.099976  2.1349  557.75   \n",
      "\n",
      "Price           Close                                  ...      Open  \\\n",
      "Ticker           CL=F     ES=F  EURUSD=X         GC=F  ...  EURUSD=X   \n",
      "Date                                                   ...             \n",
      "2010-01-01        NaN      NaN  1.438994          NaN  ...  1.432706   \n",
      "2010-01-04  81.510002  1128.75  1.442398  1117.699951  ...  1.431004   \n",
      "2010-01-05  81.769997  1132.25  1.436596  1118.099976  ...  1.442710   \n",
      "2010-01-06  83.180000  1133.00  1.440403  1135.900024  ...  1.436596   \n",
      "2010-01-07  82.660004  1137.50  1.431803  1133.099976  ...  1.440300   \n",
      "\n",
      "Price                                      Volume                             \\\n",
      "Ticker             GC=F    RB=F    ZW=F      CL=F       ES=F EURUSD=X   GC=F   \n",
      "Date                                                                           \n",
      "2010-01-01          NaN     NaN     NaN       NaN        NaN      0.0    NaN   \n",
      "2010-01-04  1117.699951  2.0750  544.75  263542.0  1291254.0      0.0  184.0   \n",
      "2010-01-05  1118.099976  2.1111  556.75  258887.0  1378593.0      0.0   53.0   \n",
      "2010-01-06  1135.900024  2.1187  552.00  370059.0  1259921.0      0.0  363.0   \n",
      "2010-01-07  1133.099976  2.1400  566.50  246632.0  1567025.0      0.0   56.0   \n",
      "\n",
      "Price                         \n",
      "Ticker         RB=F     ZW=F  \n",
      "Date                          \n",
      "2010-01-01      NaN      NaN  \n",
      "2010-01-04  42487.0  41278.0  \n",
      "2010-01-05  50245.0  36720.0  \n",
      "2010-01-06  49988.0  38503.0  \n",
      "2010-01-07  41985.0  33873.0  \n",
      "\n",
      "[5 rows x 36 columns]\n"
     ]
    },
    {
     "name": "stderr",
     "output_type": "stream",
     "text": [
      "\n"
     ]
    }
   ],
   "source": [
    "assets = {\n",
    "    'Mini-S&P500 Futures': 'ES=F',\n",
    "    'WTI Oil Futures': 'CL=F',\n",
    "    'Gold Futures': 'GC=F',\n",
    "    # 'Aluminium Futures': 'ALI=F',\n",
    "    'EUR/USD Currency': 'EURUSD=X',\n",
    "    'Wheat Futures': 'ZW=F',\n",
    "    # 'VIX Futures': 'VIXY',\n",
    "    'Gasoline Futures': 'RB=F'\n",
    "}\n",
    "\n",
    "start_date = '2010-01-01'  # First trading day of 2010\n",
    "end_date = '2023-12-31'    # Last trading day of 2023\n",
    "\n",
    "futures_data = yf.download(list(assets.values()), start=start_date, end=end_date)\n",
    "\n",
    "futures_data.index = pd.to_datetime(futures_data.index)\n",
    "print(futures_data.head())"
   ]
  },
  {
   "cell_type": "markdown",
   "id": "b7e5baf1",
   "metadata": {},
   "source": [
    "## Data Cleaning"
   ]
  },
  {
   "cell_type": "code",
   "execution_count": 5,
   "id": "2ac34c7f",
   "metadata": {},
   "outputs": [
    {
     "name": "stdout",
     "output_type": "stream",
     "text": [
      "Price      Ticker  \n",
      "Adj Close  CL=F           0\n",
      "           ES=F           0\n",
      "           EURUSD=X       0\n",
      "           GC=F           0\n",
      "           RB=F           0\n",
      "           ZW=F           0\n",
      "Close      CL=F           0\n",
      "           ES=F           0\n",
      "           EURUSD=X       0\n",
      "           GC=F           0\n",
      "           RB=F           0\n",
      "           ZW=F           0\n",
      "High       CL=F           0\n",
      "           ES=F           0\n",
      "           EURUSD=X       0\n",
      "           GC=F           0\n",
      "           RB=F           0\n",
      "           ZW=F           0\n",
      "Low        CL=F           0\n",
      "           ES=F           0\n",
      "           EURUSD=X       0\n",
      "           GC=F           0\n",
      "           RB=F           0\n",
      "           ZW=F           0\n",
      "Open       CL=F           0\n",
      "           ES=F           0\n",
      "           EURUSD=X       0\n",
      "           GC=F           0\n",
      "           RB=F           0\n",
      "           ZW=F           0\n",
      "Volume     CL=F           1\n",
      "           ES=F           3\n",
      "           EURUSD=X    3646\n",
      "           GC=F          35\n",
      "           RB=F           2\n",
      "           ZW=F           3\n",
      "dtype: int64\n"
     ]
    }
   ],
   "source": [
    "na_counts = futures_data.isna().sum()\n",
    "print(\"NA values per column:\")\n",
    "print(na_counts)\n",
    "\n",
    "zero_counts = (futures_data == 0).sum()\n",
    "print(\"Number of zeros per column:\")\n",
    "print(zero_counts)"
   ]
  },
  {
   "cell_type": "code",
   "execution_count": 9,
   "id": "d4fdda64",
   "metadata": {},
   "outputs": [
    {
     "name": "stdout",
     "output_type": "stream",
     "text": [
      "Cleaned Data\n",
      "Price       Adj Close                                                  \\\n",
      "Ticker           CL=F     ES=F  EURUSD=X         GC=F    RB=F    ZW=F   \n",
      "Date                                                                    \n",
      "2010-01-04  81.510002  1128.75  1.442398  1117.699951  2.1044  557.75   \n",
      "2010-01-05  81.769997  1132.25  1.436596  1118.099976  2.1250  553.00   \n",
      "2010-01-06  83.180000  1133.00  1.440403  1135.900024  2.1366  567.25   \n",
      "2010-01-07  82.660004  1137.50  1.431803  1133.099976  2.1349  557.75   \n",
      "2010-01-08  82.750000  1141.50  1.441109  1138.199951  2.1553  568.50   \n",
      "...               ...      ...       ...          ...     ...     ...   \n",
      "2023-12-22  73.559998  4805.25  1.100619  2057.100098  2.1301  616.25   \n",
      "2023-12-26  75.570000  4825.00  1.102026  2058.199951  2.1583  636.25   \n",
      "2023-12-27  74.110001  4833.50  1.104301  2081.899902  2.1550  623.00   \n",
      "2023-12-28  71.769997  4832.25  1.110864  2073.899902  2.0852  631.50   \n",
      "2023-12-29  71.650002  4820.00  1.106819  2062.399902  2.1026  628.00   \n",
      "\n",
      "Price           Close                                  ...      Open  \\\n",
      "Ticker           CL=F     ES=F  EURUSD=X         GC=F  ...  EURUSD=X   \n",
      "Date                                                   ...             \n",
      "2010-01-04  81.510002  1128.75  1.442398  1117.699951  ...  1.431004   \n",
      "2010-01-05  81.769997  1132.25  1.436596  1118.099976  ...  1.442710   \n",
      "2010-01-06  83.180000  1133.00  1.440403  1135.900024  ...  1.436596   \n",
      "2010-01-07  82.660004  1137.50  1.431803  1133.099976  ...  1.440300   \n",
      "2010-01-08  82.750000  1141.50  1.441109  1138.199951  ...  1.432090   \n",
      "...               ...      ...       ...          ...  ...       ...   \n",
      "2023-12-22  73.559998  4805.25  1.100619  2057.100098  ...  1.100619   \n",
      "2023-12-26  75.570000  4825.00  1.102026  2058.199951  ...  1.102026   \n",
      "2023-12-27  74.110001  4833.50  1.104301  2081.899902  ...  1.104301   \n",
      "2023-12-28  71.769997  4832.25  1.110864  2073.899902  ...  1.110864   \n",
      "2023-12-29  71.650002  4820.00  1.106819  2062.399902  ...  1.106819   \n",
      "\n",
      "Price                                      Volume                             \\\n",
      "Ticker             GC=F    RB=F    ZW=F      CL=F       ES=F EURUSD=X   GC=F   \n",
      "Date                                                                           \n",
      "2010-01-04  1117.699951  2.0750  544.75  263542.0  1291254.0      0.0  184.0   \n",
      "2010-01-05  1118.099976  2.1111  556.75  258887.0  1378593.0      0.0   53.0   \n",
      "2010-01-06  1135.900024  2.1187  552.00  370059.0  1259921.0      0.0  363.0   \n",
      "2010-01-07  1133.099976  2.1400  566.50  246632.0  1567025.0      0.0   56.0   \n",
      "2010-01-08  1138.199951  2.1370  557.50  310377.0  1527666.0      0.0   54.0   \n",
      "...                 ...     ...     ...       ...        ...      ...    ...   \n",
      "2023-12-22  2055.699951  2.1672  612.50  222600.0  1326697.0      0.0  202.0   \n",
      "2023-12-26  2060.000000  2.1243  615.00  208715.0   688201.0      0.0   64.0   \n",
      "2023-12-27  2067.300049  2.1542  636.00  253323.0  1042284.0      0.0  586.0   \n",
      "2023-12-28  2081.600098  2.1469  624.25  262748.0   927035.0      0.0  338.0   \n",
      "2023-12-29  2068.000000  2.0955  631.00  214486.0  1281733.0      0.0   47.0   \n",
      "\n",
      "Price                         \n",
      "Ticker         RB=F     ZW=F  \n",
      "Date                          \n",
      "2010-01-04  42487.0  41278.0  \n",
      "2010-01-05  50245.0  36720.0  \n",
      "2010-01-06  49988.0  38503.0  \n",
      "2010-01-07  41985.0  33873.0  \n",
      "2010-01-08  53728.0  33873.0  \n",
      "...             ...      ...  \n",
      "2023-12-22  27222.0  26134.0  \n",
      "2023-12-26  19175.0  40674.0  \n",
      "2023-12-27  19992.0  38063.0  \n",
      "2023-12-28  17546.0  32254.0  \n",
      "2023-12-29  54916.0  34752.0  \n",
      "\n",
      "[3513 rows x 36 columns]\n",
      "TOTAL NA values after cleaning:\n",
      "0\n"
     ]
    }
   ],
   "source": [
    "futures_data = futures_data.dropna()\n",
    "print(\"Cleaned Data\")\n",
    "print(futures_data)\n",
    "\n",
    "cleaned_na_counts = futures_data.isna().sum()\n",
    "print(\"TOTAL NA values after cleaning:\")\n",
    "print(cleaned_na_counts.sum())"
   ]
  },
  {
   "cell_type": "markdown",
   "id": "4caa51db",
   "metadata": {},
   "source": [
    "Investigating why ALI=F and VIXY have too many NaN values."
   ]
  },
  {
   "cell_type": "code",
   "execution_count": 10,
   "id": "92473da9",
   "metadata": {},
   "outputs": [],
   "source": [
    "# # Visualize NA occurrences\n",
    "# futures_data.adj['ALI=F'].isna().astype(int).plot(title='ALI=F NA Occurrences', figsize=(12, 6))\n",
    "# plt.show()\n",
    "\n",
    "# futures_data.Close['VIXY'].isna().astype(int).plot(title='VIXY NA Occurrences', figsize=(12, 6))\n",
    "# plt.show()\n",
    "\n",
    "# Identify rows with NA values for ALI=F and VIXY\n",
    "# ali_na_dates = futures_data[futures_data.Close['ALI=F'].isna()].index\n",
    "# vixy_na_dates = futures_data[futures_data.Close['VIXY'].isna()].index\n",
    "\n",
    "# print(\"Dates with NA values for ALI=F:\")\n",
    "# print(ali_na_dates)\n",
    "\n",
    "# print(\"Dates with NA values for VIXY:\")\n",
    "# print(vixy_na_dates)\n",
    "\n",
    "# ali_na_data = futures_data.loc[ali_na_dates, ['Close']]\n",
    "# vixy_na_data = futures_data.loc[vixy_na_dates, ['Close']]\n",
    "\n",
    "# print(\"ALI=F data on dates with NA Close values:\")\n",
    "# # print(ali_na_data.isna().sum())\n",
    "\n",
    "# print(\"VIXY data on dates with NA Close values:\")\n",
    "# print(vixy_na_data.isna().sum())"
   ]
  },
  {
   "cell_type": "markdown",
   "id": "42764274-34fa-42fa-8323-b0e6de57123c",
   "metadata": {},
   "source": [
    "## Split data into training and testing (test data starts from 2020)"
   ]
  },
  {
   "cell_type": "code",
   "execution_count": 14,
   "id": "96d53afe",
   "metadata": {},
   "outputs": [
    {
     "name": "stdout",
     "output_type": "stream",
     "text": [
      "Training data shape: (2507, 36)\n",
      "Testing data shape: (1006, 36)\n",
      "Price       Adj Close                                                  \\\n",
      "Ticker           CL=F     ES=F  EURUSD=X         GC=F    RB=F    ZW=F   \n",
      "Date                                                                    \n",
      "2020-01-02  61.180000  3259.00  1.122083  1524.500000  1.7042  560.25   \n",
      "2020-01-03  63.049999  3235.50  1.117144  1549.199951  1.7488  554.50   \n",
      "2020-01-06  63.270000  3243.50  1.116196  1566.199951  1.7544  550.00   \n",
      "2020-01-07  62.700001  3235.25  1.119799  1571.800049  1.7222  550.25   \n",
      "2020-01-08  59.610001  3260.25  1.115474  1557.400024  1.6488  552.75   \n",
      "...               ...      ...       ...          ...     ...     ...   \n",
      "2023-12-22  73.559998  4805.25  1.100619  2057.100098  2.1301  616.25   \n",
      "2023-12-26  75.570000  4825.00  1.102026  2058.199951  2.1583  636.25   \n",
      "2023-12-27  74.110001  4833.50  1.104301  2081.899902  2.1550  623.00   \n",
      "2023-12-28  71.769997  4832.25  1.110864  2073.899902  2.0852  631.50   \n",
      "2023-12-29  71.650002  4820.00  1.106819  2062.399902  2.1026  628.00   \n",
      "\n",
      "Price           Close                                  ...      Open  \\\n",
      "Ticker           CL=F     ES=F  EURUSD=X         GC=F  ...  EURUSD=X   \n",
      "Date                                                   ...             \n",
      "2020-01-02  61.180000  3259.00  1.122083  1524.500000  ...  1.121894   \n",
      "2020-01-03  63.049999  3235.50  1.117144  1549.199951  ...  1.117081   \n",
      "2020-01-06  63.270000  3243.50  1.116196  1566.199951  ...  1.116246   \n",
      "2020-01-07  62.700001  3235.25  1.119799  1571.800049  ...  1.119583   \n",
      "2020-01-08  59.610001  3260.25  1.115474  1557.400024  ...  1.115573   \n",
      "...               ...      ...       ...          ...  ...       ...   \n",
      "2023-12-22  73.559998  4805.25  1.100619  2057.100098  ...  1.100619   \n",
      "2023-12-26  75.570000  4825.00  1.102026  2058.199951  ...  1.102026   \n",
      "2023-12-27  74.110001  4833.50  1.104301  2081.899902  ...  1.104301   \n",
      "2023-12-28  71.769997  4832.25  1.110864  2073.899902  ...  1.110864   \n",
      "2023-12-29  71.650002  4820.00  1.106819  2062.399902  ...  1.106819   \n",
      "\n",
      "Price                                       Volume                             \\\n",
      "Ticker             GC=F    RB=F    ZW=F       CL=F       ES=F EURUSD=X   GC=F   \n",
      "Date                                                                            \n",
      "2020-01-02  1518.099976  1.6960  559.50   486873.0  1416241.0      0.0  214.0   \n",
      "2020-01-03  1530.099976  1.7069  560.75   885861.0  1755057.0      0.0  107.0   \n",
      "2020-01-06  1580.000000  1.7556  552.50   724236.0  1502748.0      0.0  416.0   \n",
      "2020-01-07  1558.300049  1.7471  549.50   582649.0  1293494.0      0.0   47.0   \n",
      "2020-01-08  1579.699951  1.7222  549.50  1205710.0  2279138.0      0.0  236.0   \n",
      "...                 ...     ...     ...        ...        ...      ...    ...   \n",
      "2023-12-22  2055.699951  2.1672  612.50   222600.0  1326697.0      0.0  202.0   \n",
      "2023-12-26  2060.000000  2.1243  615.00   208715.0   688201.0      0.0   64.0   \n",
      "2023-12-27  2067.300049  2.1542  636.00   253323.0  1042284.0      0.0  586.0   \n",
      "2023-12-28  2081.600098  2.1469  624.25   262748.0   927035.0      0.0  338.0   \n",
      "2023-12-29  2068.000000  2.0955  631.00   214486.0  1281733.0      0.0   47.0   \n",
      "\n",
      "Price                          \n",
      "Ticker          RB=F     ZW=F  \n",
      "Date                           \n",
      "2020-01-02   66718.0  49931.0  \n",
      "2020-01-03   73336.0  44180.0  \n",
      "2020-01-06   57283.0  47904.0  \n",
      "2020-01-07   64447.0  41346.0  \n",
      "2020-01-08  101333.0  51322.0  \n",
      "...              ...      ...  \n",
      "2023-12-22   27222.0  26134.0  \n",
      "2023-12-26   19175.0  40674.0  \n",
      "2023-12-27   19992.0  38063.0  \n",
      "2023-12-28   17546.0  32254.0  \n",
      "2023-12-29   54916.0  34752.0  \n",
      "\n",
      "[1006 rows x 36 columns]\n"
     ]
    }
   ],
   "source": [
    "# Define the start date for the test set\n",
    "test_start_date = '2020-01-02'\n",
    "\n",
    "# Split the data into training and testing sets\n",
    "train_data = futures_data[futures_data.index < test_start_date]  # Data before 2 Jan 2020\n",
    "test_data = futures_data[futures_data.index >= test_start_date]  # Data from 2 Jan 2020 onwards\n",
    "\n",
    "# Check the shapes of the resulting datasets\n",
    "print(\"Training data shape:\", train_data.shape)\n",
    "print(\"Testing data shape:\", test_data.shape)"
   ]
  },
  {
   "cell_type": "markdown",
   "id": "059ec9bb-fc48-43d7-9152-b4069fa62510",
   "metadata": {},
   "source": [
    "Exploratory Data Analysis (To help decide strategies)"
   ]
  },
  {
   "cell_type": "markdown",
   "id": "959726aa-d554-45c3-9d9b-65017253a569",
   "metadata": {},
   "source": [
    "Setting Benchmark as an equally weighted (across all assets) Buy and Hold strategy. Other Benchmarks? Why did I choose this benchmark?"
   ]
  },
  {
   "cell_type": "markdown",
   "id": "e9bbc147-fc34-481b-9c64-8d1d435ce488",
   "metadata": {},
   "source": [
    "Strategy 1: Time-series Micro Alpha"
   ]
  },
  {
   "cell_type": "markdown",
   "id": "d4e79889-90bf-41cd-9032-c092a7f4dd33",
   "metadata": {},
   "source": [
    "Strategy 2: Cross-Sectional Micro Alpha"
   ]
  },
  {
   "cell_type": "markdown",
   "id": "8521b0f7-e4d9-41b1-9d16-efa03f0a8272",
   "metadata": {},
   "source": [
    "Strategy 3: Timing Micro Alpha"
   ]
  },
  {
   "cell_type": "markdown",
   "id": "8963f4be-06c9-459b-ab72-3ce077f6f707",
   "metadata": {},
   "source": [
    "Strategy 4: ML Micro Alpha"
   ]
  },
  {
   "cell_type": "markdown",
   "id": "59e27b56-461b-4be3-ba64-5ca81c5e2b69",
   "metadata": {},
   "source": [
    "Combining strategies method 1: Equal weighting of strategies"
   ]
  },
  {
   "cell_type": "markdown",
   "id": "ea03d5b7-8415-40ce-be23-47e1aa4d6afc",
   "metadata": {},
   "source": [
    "Combining strategies method 2: Manual weighting of strategies"
   ]
  },
  {
   "cell_type": "markdown",
   "id": "e1dbfcb1-3dc2-4a5b-b3ee-164043c087d7",
   "metadata": {},
   "source": [
    "Combining strategies method 3: Automated (Mean-variance) weighting of strategy"
   ]
  },
  {
   "cell_type": "markdown",
   "id": "4148d931-d182-46c0-ba14-498bae1134ad",
   "metadata": {},
   "source": [
    "Evaluate strategies on training data: CAGR, Sharpe/Sortino Ratio with/without rf rate, Alpha, Beta, Profit factor, Average/Max Drawdown, Profit per trade. Make a dataframe for these metrics, interpret them, make predictions about test data. Compare strategies with the benchmark and against each other."
   ]
  },
  {
   "cell_type": "markdown",
   "id": "1d306c40-afd4-4810-8969-6e299937df3a",
   "metadata": {},
   "source": [
    "After you have done your research, will your researched strategies still deliver acceptable performance from 2 Jan 2020 onwards?"
   ]
  },
  {
   "cell_type": "markdown",
   "id": "32f69d04-f6b9-4ac0-b6f9-86dfebf10b9e",
   "metadata": {},
   "source": [
    "Once your simulation is ready, run a study of transaction costs. For simplicity, apply the same level of transaction costs to each contract. And answer the following questions.\n",
    "\n",
    "What is the highest level of transaction costs your strategy can tolerate?\n",
    "Could this be improved by reducing the turnover?\n",
    "How much leverage would you tolerate?"
   ]
  },
  {
   "cell_type": "markdown",
   "id": "76c8711e-0e57-4635-8e84-59b26d46de5b",
   "metadata": {},
   "source": [
    "Apply strategies on test data"
   ]
  },
  {
   "cell_type": "markdown",
   "id": "69662d3f-793c-482e-a057-00405427c622",
   "metadata": {},
   "source": [
    "Evaluate strategies on testing data: CAGR, Sharpe/Sortino Ratio with/without rf rate, Alpha, Beta, Profit factor, Average/Max Drawdown, Profit per trade. Make a dataframe for these metrics, interpret them, make predictions about test data. Compare strategies with the benchmark and against each other."
   ]
  },
  {
   "cell_type": "markdown",
   "id": "e3bbd683-d4e3-4432-8bdc-727e680ca406",
   "metadata": {},
   "source": [
    "Does the strategy still hold in the new market regime?\n",
    "Is it still viable after transaction costs?"
   ]
  },
  {
   "cell_type": "markdown",
   "id": "6be2b852-47e6-4075-9742-26373fffe892",
   "metadata": {},
   "source": [
    "Reflect on what you have learned. Write down at least 10 insights from your research."
   ]
  }
 ],
 "metadata": {
  "kernelspec": {
   "display_name": "Python 3 (ipykernel)",
   "language": "python",
   "name": "python3"
  },
  "language_info": {
   "codemirror_mode": {
    "name": "ipython",
    "version": 3
   },
   "file_extension": ".py",
   "mimetype": "text/x-python",
   "name": "python",
   "nbconvert_exporter": "python",
   "pygments_lexer": "ipython3",
   "version": "3.11.9"
  }
 },
 "nbformat": 4,
 "nbformat_minor": 5
}
